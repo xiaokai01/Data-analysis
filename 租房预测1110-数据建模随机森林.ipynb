{
 "cells": [
  {
   "cell_type": "code",
   "execution_count": 1,
   "metadata": {},
   "outputs": [
    {
     "name": "stderr",
     "output_type": "stream",
     "text": [
      "d:\\ProgramData\\Anaconda3\\lib\\site-packages\\sklearn\\ensemble\\weight_boosting.py:29: DeprecationWarning: numpy.core.umath_tests is an internal NumPy module and should not be imported. It will be removed in a future NumPy release.\n",
      "  from numpy.core.umath_tests import inner1d\n",
      "d:\\ProgramData\\Anaconda3\\lib\\site-packages\\sklearn\\cross_validation.py:41: DeprecationWarning: This module was deprecated in version 0.18 in favor of the model_selection module into which all the refactored classes and functions are moved. Also note that the interface of the new CV iterators are different from that of this module. This module will be removed in 0.20.\n",
      "  \"This module will be removed in 0.20.\", DeprecationWarning)\n"
     ]
    }
   ],
   "source": [
    "import pandas as pd\n",
    "import numpy as np\n",
    "import seaborn as sns\n",
    "import matplotlib as mpl\n",
    "\n",
    "import matplotlib.pyplot as plt\n",
    "from IPython.display import display\n",
    "plt.style.use(\"fivethirtyeight\")\n",
    "sns.set_style({'font.sans-serif':['simhei','Arial']})\n",
    "%matplotlib inline\n",
    "\n",
    "\n",
    "# 检查Python版本\n",
    "from sys import version_info\n",
    "if version_info.major != 3:\n",
    "    raise Exception('请使用Python 3 来完成此项目')\n",
    "\n",
    "from sklearn.linear_model import LogisticRegression\n",
    "from sklearn.ensemble import RandomForestClassifier\n",
    "from sklearn.metrics import roc_auc_score as AUC\n",
    "from sklearn.metrics import mean_absolute_error\n",
    "from sklearn.metrics import mean_squared_error\n",
    "from sklearn.decomposition import PCA\n",
    "from sklearn.preprocessing import LabelEncoder, LabelBinarizer\n",
    "from sklearn.cross_validation import cross_val_score\n",
    "\n",
    "from scipy import stats\n",
    "import seaborn as sns\n",
    "from copy import deepcopy\n",
    "\n",
    "%matplotlib inline\n",
    "\n",
    "# This may raise an exception in earlier versions of Jupyter\n",
    "%config InlineBackend.figure_format = 'retina'"
   ]
  },
  {
   "cell_type": "code",
   "execution_count": 2,
   "metadata": {
    "collapsed": true
   },
   "outputs": [],
   "source": [
    "pd.set_option('display.max_rows',23)"
   ]
  },
  {
   "cell_type": "code",
   "execution_count": 4,
   "metadata": {},
   "outputs": [
    {
     "name": "stdout",
     "output_type": "stream",
     "text": [
      "   时间       小区名  小区房屋出租数量  楼层       总楼层      房屋面积     区     位置        月租金  \\\n",
      "0   1 -0.075191  0.128906   2  0.236364  0.008628  11.0  118.0   5.602716   \n",
      "1   1 -0.035647  0.132812   1  0.381818  0.017046  10.0  100.0  16.977929   \n",
      "2   1  1.162035  0.042969   0  0.290909  0.010593  12.0  130.0   8.998302   \n",
      "3   1 -0.059868  0.085938   2  0.581818  0.019199   7.0   90.0   5.602716   \n",
      "4   1  0.967777  0.214844   0  0.545455  0.010427   3.0   31.0   7.300509   \n",
      "\n",
      "   房屋数量  房屋朝向_东  房屋朝向_东北  房屋朝向_东南  房屋朝向_北  房屋朝向_南  房屋朝向_西  房屋朝向_西北  房屋朝向_西南  \\\n",
      "0     3       0        0        1       0       0       0        0        0   \n",
      "1     1       1        0        0       0       0       0        0        0   \n",
      "2     5       0        0        1       0       0       0        0        0   \n",
      "3     7       0        0        0       0       1       0        0        0   \n",
      "4     4       0        1        0       0       0       0        0        0   \n",
      "\n",
      "   房屋朝向_nan  \n",
      "0         0  \n",
      "1         0  \n",
      "2         0  \n",
      "3         0  \n",
      "4         0  \n",
      "(56279, 19)\n",
      "   id  时间       小区名  小区房屋出租数量  楼层       总楼层      房屋面积     区    位置  房屋数量  \\\n",
      "0   1   4  1.362147  0.382812   1  0.600000  0.007117  10.0   5.0     4   \n",
      "1   2   4 -0.750335  0.152344   1  0.472727  0.007448   3.0   0.0     4   \n",
      "2   3   4 -1.212104  0.207031   2  0.709091  0.014068  10.0   9.0     7   \n",
      "3   4   4 -0.952084  0.011719   0  0.090909  0.008937   6.0  96.0     4   \n",
      "4   5   4  0.859245  0.035156   1  0.218182  0.008606   6.0  61.0     4   \n",
      "\n",
      "   房屋朝向_东  房屋朝向_东北  房屋朝向_东南  房屋朝向_北  房屋朝向_南  房屋朝向_西  房屋朝向_西北  房屋朝向_西南  \\\n",
      "0       1        0        0       0       0       0        0        0   \n",
      "1       1        0        0       0       0       0        0        0   \n",
      "2       0        0        1       0       0       0        0        0   \n",
      "3       0        0        0       0       1       0        0        0   \n",
      "4       0        0        1       0       0       0        0        0   \n",
      "\n",
      "   房屋朝向_nan  \n",
      "0         0  \n",
      "1         0  \n",
      "2         0  \n",
      "3         0  \n",
      "4         0  \n"
     ]
    }
   ],
   "source": [
    "train_data =pd.read_csv(\"d:/train.csv\")\n",
    "print(train_data.head())\n",
    "test_data =pd.read_csv(\"d:/test.csv\")\n",
    "print(test_data.shape)\n",
    "print(test_data.head())"
   ]
  },
  {
   "cell_type": "code",
   "execution_count": 5,
   "metadata": {},
   "outputs": [
    {
     "data": {
      "text/plain": [
       "0          5.602716\n",
       "1         16.977929\n",
       "2          8.998302\n",
       "3          5.602716\n",
       "4          7.300509\n",
       "5          4.923599\n",
       "6          6.621392\n",
       "7         14.091681\n",
       "8          4.584041\n",
       "9         39.558574\n",
       "10         4.923599\n",
       "            ...    \n",
       "196528     8.319185\n",
       "196529     5.602716\n",
       "196530     4.244482\n",
       "196531     5.602716\n",
       "196532     4.923599\n",
       "196533     7.640068\n",
       "196534    17.487267\n",
       "196535     5.602716\n",
       "196536     2.886248\n",
       "196537     2.207131\n",
       "196538    10.696095\n",
       "Name: 月租金, Length: 196539, dtype: float64"
      ]
     },
     "execution_count": 5,
     "metadata": {},
     "output_type": "execute_result"
    }
   ],
   "source": [
    "train_data['月租金']"
   ]
  },
  {
   "cell_type": "code",
   "execution_count": 6,
   "metadata": {
    "collapsed": true
   },
   "outputs": [],
   "source": [
    "df =train_data.copy()"
   ]
  },
  {
   "cell_type": "code",
   "execution_count": 7,
   "metadata": {
    "collapsed": true
   },
   "outputs": [],
   "source": [
    "# 特征变量和目标变量\n",
    "features = df.drop('月租金', axis=1)\n",
    "prices = df['月租金']"
   ]
  },
  {
   "cell_type": "code",
   "execution_count": 8,
   "metadata": {},
   "outputs": [
    {
     "name": "stdout",
     "output_type": "stream",
     "text": [
      "租房房价有数据 196539 条，字段 19 个\n"
     ]
    }
   ],
   "source": [
    "# 把分类特征都转成数值型后有{}行{}列\n",
    "print('租房房价有数据 {0} 条，字段 {1} 个' .format(*df.shape))\n",
    "\n",
    "# 导入 sklearn 进行训练测试集划分\n",
    "from sklearn.model_selection import train_test_split\n",
    "\n",
    "features_train, features_test, prices_train, prices_test = train_test_split(features, prices, test_size=0.3, random_state=0)"
   ]
  },
  {
   "cell_type": "code",
   "execution_count": 10,
   "metadata": {},
   "outputs": [
    {
     "name": "stdout",
     "output_type": "stream",
     "text": [
      "False\n",
      "False\n"
     ]
    },
    {
     "data": {
      "text/html": [
       "<div>\n",
       "<style>\n",
       "    .dataframe thead tr:only-child th {\n",
       "        text-align: right;\n",
       "    }\n",
       "\n",
       "    .dataframe thead th {\n",
       "        text-align: left;\n",
       "    }\n",
       "\n",
       "    .dataframe tbody tr th {\n",
       "        vertical-align: top;\n",
       "    }\n",
       "</style>\n",
       "<table border=\"1\" class=\"dataframe\">\n",
       "  <thead>\n",
       "    <tr style=\"text-align: right;\">\n",
       "      <th></th>\n",
       "      <th>时间</th>\n",
       "      <th>小区名</th>\n",
       "      <th>小区房屋出租数量</th>\n",
       "      <th>楼层</th>\n",
       "      <th>总楼层</th>\n",
       "      <th>房屋面积</th>\n",
       "      <th>区</th>\n",
       "      <th>位置</th>\n",
       "      <th>房屋数量</th>\n",
       "      <th>房屋朝向_东</th>\n",
       "      <th>房屋朝向_东北</th>\n",
       "      <th>房屋朝向_东南</th>\n",
       "      <th>房屋朝向_北</th>\n",
       "      <th>房屋朝向_南</th>\n",
       "      <th>房屋朝向_西</th>\n",
       "      <th>房屋朝向_西北</th>\n",
       "      <th>房屋朝向_西南</th>\n",
       "      <th>房屋朝向_nan</th>\n",
       "    </tr>\n",
       "  </thead>\n",
       "  <tbody>\n",
       "    <tr>\n",
       "      <th>count</th>\n",
       "      <td>196539.000000</td>\n",
       "      <td>1.965390e+05</td>\n",
       "      <td>196539.000000</td>\n",
       "      <td>196539.000000</td>\n",
       "      <td>196539.000000</td>\n",
       "      <td>196539.000000</td>\n",
       "      <td>196539.000000</td>\n",
       "      <td>196539.000000</td>\n",
       "      <td>196539.000000</td>\n",
       "      <td>196539.000000</td>\n",
       "      <td>196539.000000</td>\n",
       "      <td>196539.000000</td>\n",
       "      <td>196539.000000</td>\n",
       "      <td>196539.000000</td>\n",
       "      <td>196539.000000</td>\n",
       "      <td>196539.000000</td>\n",
       "      <td>196539.000000</td>\n",
       "      <td>196539.0</td>\n",
       "    </tr>\n",
       "    <tr>\n",
       "      <th>mean</th>\n",
       "      <td>2.115229</td>\n",
       "      <td>1.292082e-15</td>\n",
       "      <td>0.124136</td>\n",
       "      <td>0.955449</td>\n",
       "      <td>0.408711</td>\n",
       "      <td>0.013139</td>\n",
       "      <td>7.904971</td>\n",
       "      <td>67.947685</td>\n",
       "      <td>4.760078</td>\n",
       "      <td>0.162624</td>\n",
       "      <td>0.016724</td>\n",
       "      <td>0.277355</td>\n",
       "      <td>0.053058</td>\n",
       "      <td>0.324897</td>\n",
       "      <td>0.049858</td>\n",
       "      <td>0.026351</td>\n",
       "      <td>0.089132</td>\n",
       "      <td>0.0</td>\n",
       "    </tr>\n",
       "    <tr>\n",
       "      <th>std</th>\n",
       "      <td>0.786980</td>\n",
       "      <td>1.000000e+00</td>\n",
       "      <td>0.133305</td>\n",
       "      <td>0.851511</td>\n",
       "      <td>0.183100</td>\n",
       "      <td>0.008104</td>\n",
       "      <td>4.025718</td>\n",
       "      <td>43.522332</td>\n",
       "      <td>1.636453</td>\n",
       "      <td>0.369023</td>\n",
       "      <td>0.128237</td>\n",
       "      <td>0.447694</td>\n",
       "      <td>0.224150</td>\n",
       "      <td>0.468338</td>\n",
       "      <td>0.217652</td>\n",
       "      <td>0.160177</td>\n",
       "      <td>0.284936</td>\n",
       "      <td>0.0</td>\n",
       "    </tr>\n",
       "    <tr>\n",
       "      <th>min</th>\n",
       "      <td>1.000000</td>\n",
       "      <td>-1.593672e+00</td>\n",
       "      <td>0.007812</td>\n",
       "      <td>0.000000</td>\n",
       "      <td>0.000000</td>\n",
       "      <td>0.000000</td>\n",
       "      <td>0.000000</td>\n",
       "      <td>0.000000</td>\n",
       "      <td>1.000000</td>\n",
       "      <td>0.000000</td>\n",
       "      <td>0.000000</td>\n",
       "      <td>0.000000</td>\n",
       "      <td>0.000000</td>\n",
       "      <td>0.000000</td>\n",
       "      <td>0.000000</td>\n",
       "      <td>0.000000</td>\n",
       "      <td>0.000000</td>\n",
       "      <td>0.0</td>\n",
       "    </tr>\n",
       "    <tr>\n",
       "      <th>25%</th>\n",
       "      <td>1.000000</td>\n",
       "      <td>-9.075876e-01</td>\n",
       "      <td>0.039062</td>\n",
       "      <td>0.000000</td>\n",
       "      <td>0.290909</td>\n",
       "      <td>0.009268</td>\n",
       "      <td>4.000000</td>\n",
       "      <td>33.000000</td>\n",
       "      <td>4.000000</td>\n",
       "      <td>0.000000</td>\n",
       "      <td>0.000000</td>\n",
       "      <td>0.000000</td>\n",
       "      <td>0.000000</td>\n",
       "      <td>0.000000</td>\n",
       "      <td>0.000000</td>\n",
       "      <td>0.000000</td>\n",
       "      <td>0.000000</td>\n",
       "      <td>0.0</td>\n",
       "    </tr>\n",
       "    <tr>\n",
       "      <th>50%</th>\n",
       "      <td>2.000000</td>\n",
       "      <td>-6.827065e-02</td>\n",
       "      <td>0.082031</td>\n",
       "      <td>1.000000</td>\n",
       "      <td>0.418182</td>\n",
       "      <td>0.012910</td>\n",
       "      <td>9.000000</td>\n",
       "      <td>61.000000</td>\n",
       "      <td>5.000000</td>\n",
       "      <td>0.000000</td>\n",
       "      <td>0.000000</td>\n",
       "      <td>0.000000</td>\n",
       "      <td>0.000000</td>\n",
       "      <td>0.000000</td>\n",
       "      <td>0.000000</td>\n",
       "      <td>0.000000</td>\n",
       "      <td>0.000000</td>\n",
       "      <td>0.0</td>\n",
       "    </tr>\n",
       "    <tr>\n",
       "      <th>75%</th>\n",
       "      <td>3.000000</td>\n",
       "      <td>9.761797e-01</td>\n",
       "      <td>0.160156</td>\n",
       "      <td>2.000000</td>\n",
       "      <td>0.563636</td>\n",
       "      <td>0.014896</td>\n",
       "      <td>11.000000</td>\n",
       "      <td>103.000000</td>\n",
       "      <td>6.000000</td>\n",
       "      <td>0.000000</td>\n",
       "      <td>0.000000</td>\n",
       "      <td>1.000000</td>\n",
       "      <td>0.000000</td>\n",
       "      <td>1.000000</td>\n",
       "      <td>0.000000</td>\n",
       "      <td>0.000000</td>\n",
       "      <td>0.000000</td>\n",
       "      <td>0.0</td>\n",
       "    </tr>\n",
       "    <tr>\n",
       "      <th>max</th>\n",
       "      <td>3.000000</td>\n",
       "      <td>1.682036e+00</td>\n",
       "      <td>1.000000</td>\n",
       "      <td>2.000000</td>\n",
       "      <td>1.000000</td>\n",
       "      <td>1.000000</td>\n",
       "      <td>14.000000</td>\n",
       "      <td>152.000000</td>\n",
       "      <td>18.000000</td>\n",
       "      <td>1.000000</td>\n",
       "      <td>1.000000</td>\n",
       "      <td>1.000000</td>\n",
       "      <td>1.000000</td>\n",
       "      <td>1.000000</td>\n",
       "      <td>1.000000</td>\n",
       "      <td>1.000000</td>\n",
       "      <td>1.000000</td>\n",
       "      <td>0.0</td>\n",
       "    </tr>\n",
       "  </tbody>\n",
       "</table>\n",
       "</div>"
      ],
      "text/plain": [
       "                  时间           小区名       小区房屋出租数量             楼层  \\\n",
       "count  196539.000000  1.965390e+05  196539.000000  196539.000000   \n",
       "mean        2.115229  1.292082e-15       0.124136       0.955449   \n",
       "std         0.786980  1.000000e+00       0.133305       0.851511   \n",
       "min         1.000000 -1.593672e+00       0.007812       0.000000   \n",
       "25%         1.000000 -9.075876e-01       0.039062       0.000000   \n",
       "50%         2.000000 -6.827065e-02       0.082031       1.000000   \n",
       "75%         3.000000  9.761797e-01       0.160156       2.000000   \n",
       "max         3.000000  1.682036e+00       1.000000       2.000000   \n",
       "\n",
       "                 总楼层           房屋面积              区             位置  \\\n",
       "count  196539.000000  196539.000000  196539.000000  196539.000000   \n",
       "mean        0.408711       0.013139       7.904971      67.947685   \n",
       "std         0.183100       0.008104       4.025718      43.522332   \n",
       "min         0.000000       0.000000       0.000000       0.000000   \n",
       "25%         0.290909       0.009268       4.000000      33.000000   \n",
       "50%         0.418182       0.012910       9.000000      61.000000   \n",
       "75%         0.563636       0.014896      11.000000     103.000000   \n",
       "max         1.000000       1.000000      14.000000     152.000000   \n",
       "\n",
       "                房屋数量         房屋朝向_东        房屋朝向_东北        房屋朝向_东南  \\\n",
       "count  196539.000000  196539.000000  196539.000000  196539.000000   \n",
       "mean        4.760078       0.162624       0.016724       0.277355   \n",
       "std         1.636453       0.369023       0.128237       0.447694   \n",
       "min         1.000000       0.000000       0.000000       0.000000   \n",
       "25%         4.000000       0.000000       0.000000       0.000000   \n",
       "50%         5.000000       0.000000       0.000000       0.000000   \n",
       "75%         6.000000       0.000000       0.000000       1.000000   \n",
       "max        18.000000       1.000000       1.000000       1.000000   \n",
       "\n",
       "              房屋朝向_北         房屋朝向_南         房屋朝向_西        房屋朝向_西北  \\\n",
       "count  196539.000000  196539.000000  196539.000000  196539.000000   \n",
       "mean        0.053058       0.324897       0.049858       0.026351   \n",
       "std         0.224150       0.468338       0.217652       0.160177   \n",
       "min         0.000000       0.000000       0.000000       0.000000   \n",
       "25%         0.000000       0.000000       0.000000       0.000000   \n",
       "50%         0.000000       0.000000       0.000000       0.000000   \n",
       "75%         0.000000       1.000000       0.000000       0.000000   \n",
       "max         1.000000       1.000000       1.000000       1.000000   \n",
       "\n",
       "             房屋朝向_西南  房屋朝向_nan  \n",
       "count  196539.000000  196539.0  \n",
       "mean        0.089132       0.0  \n",
       "std         0.284936       0.0  \n",
       "min         0.000000       0.0  \n",
       "25%         0.000000       0.0  \n",
       "50%         0.000000       0.0  \n",
       "75%         0.000000       0.0  \n",
       "max         1.000000       0.0  "
      ]
     },
     "execution_count": 10,
     "metadata": {},
     "output_type": "execute_result"
    }
   ],
   "source": [
    "print(pd.isnull(features).values.any())\n",
    "print(pd.isnull(prices).values.any())\n",
    "features.describe()"
   ]
  },
  {
   "cell_type": "code",
   "execution_count": 11,
   "metadata": {
    "collapsed": true
   },
   "outputs": [],
   "source": [
    "# 建立模型\n",
    "from sklearn.model_selection import KFold\n",
    "from sklearn.tree import DecisionTreeRegressor\n",
    "from sklearn.metrics import make_scorer\n",
    "from sklearn.model_selection import GridSearchCV"
   ]
  },
  {
   "cell_type": "code",
   "execution_count": 12,
   "metadata": {
    "collapsed": true
   },
   "outputs": [],
   "source": [
    "# from sklearn.metrics import r2_score\n",
    "def performance_metric(y_true, y_predict):\n",
    "    score =mean_squared_error(y_true, y_predict)**0.5\n",
    "    return score"
   ]
  },
  {
   "cell_type": "code",
   "execution_count": 13,
   "metadata": {
    "collapsed": true
   },
   "outputs": [],
   "source": [
    "# 通过交叉认证缓解数据集过拟合的现象\n",
    "# 建立决策树回归模型\n",
    "# 通过GridSearchCV找到最优深度参数（基于输入数据[X,y] 利于网格搜索找到最优的决策树模型）\n",
    "def fit_model(X, y):\n",
    "    \n",
    "    cross_validator = KFold(10, shuffle=True)\n",
    "    regressor = DecisionTreeRegressor()\n",
    "    params = {'max_depth': [1,2,3,4,5,6,7,8,9,10]}\n",
    "    scoring_fnc = make_scorer(performance_metric)\n",
    "    grid = GridSearchCV(estimator=regressor, param_grid=params, scoring=scoring_fnc, cv=cross_validator)\n",
    "    \n",
    "    # 网格搜索\n",
    "    grid = grid.fit(X, y)\n",
    "    return grid.best_estimator_"
   ]
  },
  {
   "cell_type": "code",
   "execution_count": 14,
   "metadata": {
    "collapsed": true
   },
   "outputs": [],
   "source": [
    "optimal = fit_model(features_train, prices_train)"
   ]
  },
  {
   "cell_type": "code",
   "execution_count": 40,
   "metadata": {},
   "outputs": [
    {
     "name": "stdout",
     "output_type": "stream",
     "text": [
      "最优模型的参数 max_depth 是: 1 \n"
     ]
    }
   ],
   "source": [
    "print('最优模型的参数 max_depth 是: {} ' .format(optimal.get_params()['max_depth']))"
   ]
  },
  {
   "cell_type": "code",
   "execution_count": 15,
   "metadata": {},
   "outputs": [
    {
     "data": {
      "text/plain": [
       "{'criterion': 'mse',\n",
       " 'max_depth': 1,\n",
       " 'max_features': None,\n",
       " 'max_leaf_nodes': None,\n",
       " 'min_impurity_decrease': 0.0,\n",
       " 'min_impurity_split': None,\n",
       " 'min_samples_leaf': 1,\n",
       " 'min_samples_split': 2,\n",
       " 'min_weight_fraction_leaf': 0.0,\n",
       " 'presort': False,\n",
       " 'random_state': None,\n",
       " 'splitter': 'best'}"
      ]
     },
     "execution_count": 15,
     "metadata": {},
     "output_type": "execute_result"
    }
   ],
   "source": [
    "optimal.get_params()"
   ]
  },
  {
   "cell_type": "code",
   "execution_count": 16,
   "metadata": {},
   "outputs": [
    {
     "name": "stdout",
     "output_type": "stream",
     "text": [
      "最优模型在测试数据上 rmse 分数  5.32\n"
     ]
    }
   ],
   "source": [
    "predicted_value = optimal.predict(features_test)\n",
    "rmse = performance_metric(prices_test, predicted_value)\n",
    "\n",
    "# 每次交叉验证得到的数据集不同，因此每次运行的结果也不一定相同\n",
    "print('最优模型在测试数据上 rmse 分数 {: .2f}' .format(rmse))"
   ]
  },
  {
   "cell_type": "code",
   "execution_count": 19,
   "metadata": {},
   "outputs": [
    {
     "name": "stderr",
     "output_type": "stream",
     "text": [
      "[Parallel(n_jobs=1)]: Done  50 out of  50 | elapsed:   29.5s finished\n"
     ]
    }
   ],
   "source": [
    "from sklearn.ensemble import RandomForestRegressor\n",
    "\n",
    "np.random.seed(21)\n",
    "\n",
    "rf_reg = RandomForestRegressor(n_estimators=50, verbose=1)\n",
    "rf_reg.fit(features_train, prices_train)\n",
    "\n",
    "combine_lists = lambda item: [item[0], item[1]]\n",
    "feature_importance = list(map(combine_lists, zip(features_train.columns, rf_reg.feature_importances_)))\n",
    "feature_importance = pd.DataFrame(\n",
    "    feature_importance, columns=['feature', 'importance']\n",
    ").sort_values(by='importance', ascending=False)"
   ]
  },
  {
   "cell_type": "code",
   "execution_count": 20,
   "metadata": {},
   "outputs": [
    {
     "data": {
      "text/html": [
       "<div>\n",
       "<style>\n",
       "    .dataframe thead tr:only-child th {\n",
       "        text-align: right;\n",
       "    }\n",
       "\n",
       "    .dataframe thead th {\n",
       "        text-align: left;\n",
       "    }\n",
       "\n",
       "    .dataframe tbody tr th {\n",
       "        vertical-align: top;\n",
       "    }\n",
       "</style>\n",
       "<table border=\"1\" class=\"dataframe\">\n",
       "  <thead>\n",
       "    <tr style=\"text-align: right;\">\n",
       "      <th></th>\n",
       "      <th>feature</th>\n",
       "      <th>importance</th>\n",
       "    </tr>\n",
       "  </thead>\n",
       "  <tbody>\n",
       "    <tr>\n",
       "      <th>5</th>\n",
       "      <td>房屋面积</td>\n",
       "      <td>0.482425</td>\n",
       "    </tr>\n",
       "    <tr>\n",
       "      <th>6</th>\n",
       "      <td>区</td>\n",
       "      <td>0.115762</td>\n",
       "    </tr>\n",
       "    <tr>\n",
       "      <th>4</th>\n",
       "      <td>总楼层</td>\n",
       "      <td>0.105577</td>\n",
       "    </tr>\n",
       "    <tr>\n",
       "      <th>1</th>\n",
       "      <td>小区名</td>\n",
       "      <td>0.083544</td>\n",
       "    </tr>\n",
       "    <tr>\n",
       "      <th>7</th>\n",
       "      <td>位置</td>\n",
       "      <td>0.072956</td>\n",
       "    </tr>\n",
       "    <tr>\n",
       "      <th>2</th>\n",
       "      <td>小区房屋出租数量</td>\n",
       "      <td>0.051483</td>\n",
       "    </tr>\n",
       "    <tr>\n",
       "      <th>8</th>\n",
       "      <td>房屋数量</td>\n",
       "      <td>0.038045</td>\n",
       "    </tr>\n",
       "    <tr>\n",
       "      <th>3</th>\n",
       "      <td>楼层</td>\n",
       "      <td>0.016052</td>\n",
       "    </tr>\n",
       "    <tr>\n",
       "      <th>13</th>\n",
       "      <td>房屋朝向_南</td>\n",
       "      <td>0.006114</td>\n",
       "    </tr>\n",
       "    <tr>\n",
       "      <th>0</th>\n",
       "      <td>时间</td>\n",
       "      <td>0.005881</td>\n",
       "    </tr>\n",
       "    <tr>\n",
       "      <th>9</th>\n",
       "      <td>房屋朝向_东</td>\n",
       "      <td>0.005580</td>\n",
       "    </tr>\n",
       "    <tr>\n",
       "      <th>11</th>\n",
       "      <td>房屋朝向_东南</td>\n",
       "      <td>0.004962</td>\n",
       "    </tr>\n",
       "    <tr>\n",
       "      <th>16</th>\n",
       "      <td>房屋朝向_西南</td>\n",
       "      <td>0.002964</td>\n",
       "    </tr>\n",
       "    <tr>\n",
       "      <th>14</th>\n",
       "      <td>房屋朝向_西</td>\n",
       "      <td>0.002855</td>\n",
       "    </tr>\n",
       "    <tr>\n",
       "      <th>12</th>\n",
       "      <td>房屋朝向_北</td>\n",
       "      <td>0.002669</td>\n",
       "    </tr>\n",
       "    <tr>\n",
       "      <th>15</th>\n",
       "      <td>房屋朝向_西北</td>\n",
       "      <td>0.001948</td>\n",
       "    </tr>\n",
       "    <tr>\n",
       "      <th>10</th>\n",
       "      <td>房屋朝向_东北</td>\n",
       "      <td>0.001181</td>\n",
       "    </tr>\n",
       "    <tr>\n",
       "      <th>17</th>\n",
       "      <td>房屋朝向_nan</td>\n",
       "      <td>0.000000</td>\n",
       "    </tr>\n",
       "  </tbody>\n",
       "</table>\n",
       "</div>"
      ],
      "text/plain": [
       "     feature  importance\n",
       "5       房屋面积    0.482425\n",
       "6          区    0.115762\n",
       "4        总楼层    0.105577\n",
       "1        小区名    0.083544\n",
       "7         位置    0.072956\n",
       "2   小区房屋出租数量    0.051483\n",
       "8       房屋数量    0.038045\n",
       "3         楼层    0.016052\n",
       "13    房屋朝向_南    0.006114\n",
       "0         时间    0.005881\n",
       "9     房屋朝向_东    0.005580\n",
       "11   房屋朝向_东南    0.004962\n",
       "16   房屋朝向_西南    0.002964\n",
       "14    房屋朝向_西    0.002855\n",
       "12    房屋朝向_北    0.002669\n",
       "15   房屋朝向_西北    0.001948\n",
       "10   房屋朝向_东北    0.001181\n",
       "17  房屋朝向_nan    0.000000"
      ]
     },
     "execution_count": 20,
     "metadata": {},
     "output_type": "execute_result"
    }
   ],
   "source": [
    "feature_importance.head(23)"
   ]
  },
  {
   "cell_type": "code",
   "execution_count": 23,
   "metadata": {
    "collapsed": true
   },
   "outputs": [],
   "source": [
    "# filter_feature = feature_importance[feature_importance['importance'] > 0.001]['feature'].tolist()\n",
    "# filter_feature"
   ]
  },
  {
   "cell_type": "code",
   "execution_count": 22,
   "metadata": {},
   "outputs": [
    {
     "data": {
      "text/plain": [
       "['房屋面积',\n",
       " '区',\n",
       " '总楼层',\n",
       " '小区名',\n",
       " '位置',\n",
       " '小区房屋出租数量',\n",
       " '房屋数量',\n",
       " '楼层',\n",
       " '房屋朝向_南',\n",
       " '时间',\n",
       " '房屋朝向_东',\n",
       " '房屋朝向_东南',\n",
       " '房屋朝向_西南',\n",
       " '房屋朝向_西',\n",
       " '房屋朝向_北',\n",
       " '房屋朝向_西北',\n",
       " '房屋朝向_东北',\n",
       " '房屋朝向_nan']"
      ]
     },
     "execution_count": 22,
     "metadata": {},
     "output_type": "execute_result"
    }
   ],
   "source": [
    "filter_feature = feature_importance['feature'].tolist()\n",
    "filter_feature"
   ]
  },
  {
   "cell_type": "code",
   "execution_count": 24,
   "metadata": {
    "collapsed": true
   },
   "outputs": [],
   "source": [
    "from sklearn.metrics import mean_squared_error\n",
    "\n",
    "from sklearn.linear_model import Ridge\n",
    "from sklearn.tree import DecisionTreeRegressor\n",
    "from sklearn.ensemble import RandomForestRegressor"
   ]
  },
  {
   "cell_type": "code",
   "execution_count": 25,
   "metadata": {
    "collapsed": true
   },
   "outputs": [],
   "source": [
    "def other_regression_model(reg, train_data, train_y, val_data, val_y, input_feature):\n",
    "    reg.fit(train_data.as_matrix(columns=input_feature), train_y)\n",
    "    RMSE = mean_squared_error(\n",
    "        val_y, reg.predict(val_data.as_matrix(columns=input_feature))\n",
    "    ) ** 0.5\n",
    "    return reg, RMSE"
   ]
  },
  {
   "cell_type": "code",
   "execution_count": 26,
   "metadata": {},
   "outputs": [
    {
     "name": "stdout",
     "output_type": "stream",
     "text": [
      "RMSE for ridge_regression is 5.246094322861433\n",
      "RMSE for DecisionTreeRegressor is 1.8395359421094897\n",
      "RMSE for RandomForestRegressor is 1.6377819750062503\n"
     ]
    }
   ],
   "source": [
    "# features_train2, features_test2, prices_train2, prices_test2\n",
    "ridge = Ridge()\n",
    "dt_gre = DecisionTreeRegressor()\n",
    "rf_reg = RandomForestRegressor()\n",
    "ridge, RMSE = other_regression_model(ridge, features_train, prices_train, features_test, prices_test, filter_feature)\n",
    "print('RMSE for ridge_regression is %s' % RMSE)\n",
    "dt_gre, RMSE = other_regression_model(dt_gre, features_train, prices_train, features_test, prices_test, filter_feature)\n",
    "print('RMSE for DecisionTreeRegressor is %s' % RMSE)\n",
    "rf_reg, RMSE = other_regression_model(rf_reg, features_train, prices_train, features_test, prices_test, filter_feature)\n",
    "print('RMSE for RandomForestRegressor is %s' % RMSE)"
   ]
  },
  {
   "cell_type": "code",
   "execution_count": 27,
   "metadata": {
    "collapsed": true
   },
   "outputs": [],
   "source": [
    "from sklearn.externals import joblib\n",
    "import os"
   ]
  },
  {
   "cell_type": "code",
   "execution_count": 28,
   "metadata": {},
   "outputs": [
    {
     "data": {
      "text/plain": [
       "['RandomForestRegressor.m']"
      ]
     },
     "execution_count": 28,
     "metadata": {},
     "output_type": "execute_result"
    }
   ],
   "source": [
    "os.chdir(\"d:/model_save/\")\n",
    "joblib.dump(rf_reg, \"RandomForestRegressor.m\")\n"
   ]
  },
  {
   "cell_type": "code",
   "execution_count": 29,
   "metadata": {
    "collapsed": true
   },
   "outputs": [],
   "source": [
    "new_rf_reg = joblib.load(\"RandomForestRegressor.m\")"
   ]
  },
  {
   "cell_type": "code",
   "execution_count": null,
   "metadata": {
    "collapsed": true
   },
   "outputs": [],
   "source": []
  },
  {
   "cell_type": "code",
   "execution_count": 30,
   "metadata": {
    "collapsed": true
   },
   "outputs": [],
   "source": [
    "df1 = test_data.copy()"
   ]
  },
  {
   "cell_type": "code",
   "execution_count": 34,
   "metadata": {},
   "outputs": [
    {
     "name": "stdout",
     "output_type": "stream",
     "text": [
      "   时间       小区名  小区房屋出租数量  楼层       总楼层      房屋面积     区    位置  房屋数量  房屋朝向_东  \\\n",
      "0   4  1.362147  0.382812   1  0.600000  0.007117  10.0   5.0     4       1   \n",
      "1   4 -0.750335  0.152344   1  0.472727  0.007448   3.0   0.0     4       1   \n",
      "2   4 -1.212104  0.207031   2  0.709091  0.014068  10.0   9.0     7       0   \n",
      "3   4 -0.952084  0.011719   0  0.090909  0.008937   6.0  96.0     4       0   \n",
      "4   4  0.859245  0.035156   1  0.218182  0.008606   6.0  61.0     4       0   \n",
      "\n",
      "   房屋朝向_东北  房屋朝向_东南  房屋朝向_北  房屋朝向_南  房屋朝向_西  房屋朝向_西北  房屋朝向_西南  房屋朝向_nan  \n",
      "0        0        0       0       0       0        0        0         0  \n",
      "1        0        0       0       0       0        0        0         0  \n",
      "2        0        1       0       0       0        0        0         0  \n",
      "3        0        0       0       1       0        0        0         0  \n",
      "4        0        1       0       0       0        0        0         0  \n",
      "0    1\n",
      "1    2\n",
      "2    3\n",
      "3    4\n",
      "4    5\n",
      "Name: id, dtype: int64\n"
     ]
    }
   ],
   "source": [
    "# 特征变量和目标变量\n",
    "features_test1 = df1.drop('id', axis=1)\n",
    "print(features_test1.head())\n",
    "id_test1 = df1['id']\n",
    "print(id_test1.head())"
   ]
  },
  {
   "cell_type": "code",
   "execution_count": 35,
   "metadata": {
    "collapsed": true
   },
   "outputs": [],
   "source": [
    "tesr_result =new_rf_reg.predict(df1.as_matrix(columns=filter_feature))"
   ]
  },
  {
   "cell_type": "code",
   "execution_count": 39,
   "metadata": {},
   "outputs": [
    {
     "data": {
      "text/html": [
       "<div>\n",
       "<style>\n",
       "    .dataframe thead tr:only-child th {\n",
       "        text-align: right;\n",
       "    }\n",
       "\n",
       "    .dataframe thead th {\n",
       "        text-align: left;\n",
       "    }\n",
       "\n",
       "    .dataframe tbody tr th {\n",
       "        vertical-align: top;\n",
       "    }\n",
       "</style>\n",
       "<table border=\"1\" class=\"dataframe\">\n",
       "  <thead>\n",
       "    <tr style=\"text-align: right;\">\n",
       "      <th></th>\n",
       "      <th>price</th>\n",
       "    </tr>\n",
       "  </thead>\n",
       "  <tbody>\n",
       "    <tr>\n",
       "      <th>0</th>\n",
       "      <td>4.012450</td>\n",
       "    </tr>\n",
       "    <tr>\n",
       "      <th>1</th>\n",
       "      <td>5.874363</td>\n",
       "    </tr>\n",
       "    <tr>\n",
       "      <th>2</th>\n",
       "      <td>12.563667</td>\n",
       "    </tr>\n",
       "    <tr>\n",
       "      <th>3</th>\n",
       "      <td>5.602716</td>\n",
       "    </tr>\n",
       "    <tr>\n",
       "      <th>4</th>\n",
       "      <td>4.991511</td>\n",
       "    </tr>\n",
       "  </tbody>\n",
       "</table>\n",
       "</div>"
      ],
      "text/plain": [
       "       price\n",
       "0   4.012450\n",
       "1   5.874363\n",
       "2  12.563667\n",
       "3   5.602716\n",
       "4   4.991511"
      ]
     },
     "execution_count": 39,
     "metadata": {},
     "output_type": "execute_result"
    }
   ],
   "source": [
    "price_pre = pd.DataFrame(tesr_result,index=list(range(0,len(tesr_result))),columns=['price'])\n",
    "price_pre.head()"
   ]
  },
  {
   "cell_type": "code",
   "execution_count": 40,
   "metadata": {},
   "outputs": [
    {
     "data": {
      "text/html": [
       "<div>\n",
       "<style>\n",
       "    .dataframe thead tr:only-child th {\n",
       "        text-align: right;\n",
       "    }\n",
       "\n",
       "    .dataframe thead th {\n",
       "        text-align: left;\n",
       "    }\n",
       "\n",
       "    .dataframe tbody tr th {\n",
       "        vertical-align: top;\n",
       "    }\n",
       "</style>\n",
       "<table border=\"1\" class=\"dataframe\">\n",
       "  <thead>\n",
       "    <tr style=\"text-align: right;\">\n",
       "      <th></th>\n",
       "      <th>id</th>\n",
       "      <th>price</th>\n",
       "    </tr>\n",
       "  </thead>\n",
       "  <tbody>\n",
       "    <tr>\n",
       "      <th>0</th>\n",
       "      <td>1</td>\n",
       "      <td>4.012450</td>\n",
       "    </tr>\n",
       "    <tr>\n",
       "      <th>1</th>\n",
       "      <td>2</td>\n",
       "      <td>5.874363</td>\n",
       "    </tr>\n",
       "    <tr>\n",
       "      <th>2</th>\n",
       "      <td>3</td>\n",
       "      <td>12.563667</td>\n",
       "    </tr>\n",
       "    <tr>\n",
       "      <th>3</th>\n",
       "      <td>4</td>\n",
       "      <td>5.602716</td>\n",
       "    </tr>\n",
       "    <tr>\n",
       "      <th>4</th>\n",
       "      <td>5</td>\n",
       "      <td>4.991511</td>\n",
       "    </tr>\n",
       "  </tbody>\n",
       "</table>\n",
       "</div>"
      ],
      "text/plain": [
       "   id      price\n",
       "0   1   4.012450\n",
       "1   2   5.874363\n",
       "2   3  12.563667\n",
       "3   4   5.602716\n",
       "4   5   4.991511"
      ]
     },
     "execution_count": 40,
     "metadata": {},
     "output_type": "execute_result"
    }
   ],
   "source": [
    "res01 = pd.concat([id_test1,price_pre],axis=1)\n",
    "res01.head()"
   ]
  },
  {
   "cell_type": "code",
   "execution_count": 41,
   "metadata": {
    "collapsed": true
   },
   "outputs": [],
   "source": [
    "res01.to_csv('d:/res01.csv',index=False,header=True)"
   ]
  },
  {
   "cell_type": "code",
   "execution_count": 42,
   "metadata": {},
   "outputs": [
    {
     "data": {
      "text/plain": [
       "56279"
      ]
     },
     "execution_count": 42,
     "metadata": {},
     "output_type": "execute_result"
    }
   ],
   "source": [
    "len(res01)"
   ]
  }
 ],
 "metadata": {
  "kernelspec": {
   "display_name": "Python 3",
   "language": "python",
   "name": "python3"
  },
  "language_info": {
   "codemirror_mode": {
    "name": "ipython",
    "version": 3
   },
   "file_extension": ".py",
   "mimetype": "text/x-python",
   "name": "python",
   "nbconvert_exporter": "python",
   "pygments_lexer": "ipython3",
   "version": "3.6.3"
  }
 },
 "nbformat": 4,
 "nbformat_minor": 2
}
